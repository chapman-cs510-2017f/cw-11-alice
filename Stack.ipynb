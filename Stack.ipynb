{
 "cells": [
  {
   "cell_type": "markdown",
   "metadata": {
    "collapsed": false
   },
   "source": [
    "Sharon, Jet, Alice\n",
    "\n",
    "# Stack\n",
    "The STACK type is defined as a pointer to a struct. It first points to the top of the struct where it contains a value. The pointer then points to the next value of the struct. It continues on until the pointer points to the last value of the struct.\n",
    "The STACK is defined in this way because it is an efficient way to locate values.  When they are all stacked on top of each other, a pointer can be used to locate the value at the top of the struct. Once the value at the top is known, the rest of the values are also found."
   ]
  },
  {
   "cell_type": "code",
   "execution_count": 1,
   "metadata": {
    "collapsed": false
   },
   "outputs": [
    {
     "name": "stdout",
     "output_type": "stream",
     "text": [
      "Putting items on the stack: 1,2,3\n",
      "Popping items off the stack and printing:\n",
      "3\n",
      "4\n",
      "4\n",
      "5\n",
      "5\n",
      "6\n",
      "6\n",
      "Putting items on the stack: 4,5,6\n",
      "Printing the stack:\n",
      "6\n",
      "5\n",
      "4\n",
      "2\n",
      "1\n"
     ]
    }
   ],
   "source": [
    "%%bash\n",
    "./test/test_stack"
   ]
  },
  {
   "cell_type": "code",
   "execution_count": 0,
   "metadata": {
    "collapsed": false
   },
   "outputs": [
   ],
   "source": [
   ]
  }
 ],
 "metadata": {
  "kernelspec": {
   "display_name": "Python 3 (Ubuntu Linux)",
   "language": "python",
   "name": "python3"
  },
  "language_info": {
   "codemirror_mode": {
    "name": "ipython",
    "version": 3
   },
   "file_extension": ".py",
   "mimetype": "text/x-python",
   "name": "python",
   "nbconvert_exporter": "python",
   "pygments_lexer": "ipython3",
   "version": "3.5.2"
  }
 },
 "nbformat": 4,
 "nbformat_minor": 0
}