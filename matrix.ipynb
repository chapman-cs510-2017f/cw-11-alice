{
 "cells": [
  {
   "cell_type": "markdown",
   "metadata": {
    "collapsed": false
   },
   "source": [
    "# Matrix Structure\n",
    "\n",
    "\n",
    "## Definition of MATRIX\n",
    "// Define types as abstraction layer to protect against implementation changes\n",
    "typedef unsigned int MINDEX;\n",
    "typedef long double MVALUE;\n",
    "\n",
    "// Use abstract types inside definition for robustness\n",
    "typedef struct matrix {\n",
    "  MINDEX rows; //rows of the matrix\n",
    "  MINDEX cols; //cols of the matrix\n",
    "  MVALUE *mat; //the pointer point to the address of this matrix\n",
    "} MATRIX;\n",
    "\n",
    "## Work in Detail\n",
    "\n",
    "<li> First constructs a matrix by $new_matrix$, which sets the rows and cols, allocs memory and makes the pointer mat point the starting of the memory of this matrix. </li>\n",
    "<li> Then sets the value of the matrix by function $mset$. In this function, first moves the poniter to matrix element of specific row and col and set the value of this element to the input.</li>\n",
    "<li> After setting the value, the program can call the function $mget$ to get the value of the element by inputing the the col and col. This function moves the pointer to the element and get the value.</li>\n",
    "\n",
    "## Ordering of Multidimensional Arrays\n",
    "\n",
    "<li> Convention C uses \"row-major ordering\" for matrices, since the memory is arranged with each row being contiguous, and columns spread out in memory. Python use same ordering too.\n",
    "<li> On the other hand,  \"column-major ordering\", means columns are stored contiguously in memory instead. MATLAB, R, Julia uses \"column-major ordering\".\n",
    "\n",
    "## Force C to Use non-default Array Ordering\n",
    "If we want to force C to use \"column-major ordering\", we can dedicately reference col as row and row as col, such as $*(m->mat + (m->rows * col) + row) to refer the value (row, col).\n",
    "\n"
   ]
  },
  {
   "cell_type": "code",
   "execution_count": 0,
   "metadata": {
    "collapsed": false
   },
   "outputs": [
   ],
   "source": [
   ]
  }
 ],
 "metadata": {
  "kernelspec": {
   "display_name": "Bash (Linux)",
   "language": "bash",
   "name": "bash"
  },
  "language_info": {
   "codemirror_mode": "shell",
   "file_extension": ".sh",
   "mimetype": "text/x-sh",
   "name": "bash"
  }
 },
 "nbformat": 4,
 "nbformat_minor": 0
}